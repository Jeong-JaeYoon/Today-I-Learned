{
 "cells": [
  {
   "cell_type": "code",
   "execution_count": 1,
   "id": "c47c6b23",
   "metadata": {},
   "outputs": [],
   "source": [
    "import os\n",
    "import numpy as np\n",
    "import pandas as pd"
   ]
  },
  {
   "cell_type": "code",
   "execution_count": 3,
   "id": "ab2b8c1e",
   "metadata": {},
   "outputs": [],
   "source": [
    "path_dir = 'C:/Users/dmqa/Desktop/workspace/Today-I-Learned/2022-1-ProbabilisticGraphicalModelAndNetworkData/dataset'"
   ]
  },
  {
   "cell_type": "code",
   "execution_count": 4,
   "id": "46d54fb1",
   "metadata": {},
   "outputs": [],
   "source": [
    "file_list = os.listdir(path_dir)"
   ]
  },
  {
   "cell_type": "code",
   "execution_count": 5,
   "id": "e8fa9b61",
   "metadata": {},
   "outputs": [
    {
     "data": {
      "text/plain": [
       "['공공자전거 대여이력 정보_2021.01.csv',\n",
       " '공공자전거 대여이력 정보_2021.02.csv',\n",
       " '공공자전거 대여이력 정보_2021.03.csv',\n",
       " '공공자전거 대여이력 정보_2021.04.csv',\n",
       " '공공자전거 대여이력 정보_2021.05.csv',\n",
       " '공공자전거 대여이력 정보_2021.06.csv',\n",
       " '공공자전거 대여이력 정보_2107.csv',\n",
       " '공공자전거 대여이력 정보_2108.csv',\n",
       " '공공자전거 대여이력 정보_2109.csv',\n",
       " '공공자전거 대여이력 정보_2110.csv',\n",
       " '공공자전거 대여이력 정보_2111.csv',\n",
       " '공공자전거 대여이력 정보_2112.csv']"
      ]
     },
     "execution_count": 5,
     "metadata": {},
     "output_type": "execute_result"
    }
   ],
   "source": [
    "file_list"
   ]
  },
  {
   "cell_type": "code",
   "execution_count": 6,
   "id": "4515465b",
   "metadata": {},
   "outputs": [],
   "source": [
    "final_data = pd.DataFrame()"
   ]
  },
  {
   "cell_type": "code",
   "execution_count": 9,
   "id": "e3f82fe6",
   "metadata": {},
   "outputs": [
    {
     "name": "stderr",
     "output_type": "stream",
     "text": [
      "C:\\Users\\dmqa\\anaconda3\\lib\\site-packages\\IPython\\core\\interactiveshell.py:3444: DtypeWarning: Columns (4,6) have mixed types.Specify dtype option on import or set low_memory=False.\n",
      "  exec(code_obj, self.user_global_ns, self.user_ns)\n"
     ]
    }
   ],
   "source": [
    "for name in file_list:\n",
    "    file_path = path_dir + '/' + name\n",
    "    data = pd.read_csv(file_path, encoding = 'cp949')\n",
    "    final_data = pd.concat([final_data,data])"
   ]
  },
  {
   "cell_type": "code",
   "execution_count": 10,
   "id": "49c2d894",
   "metadata": {},
   "outputs": [
    {
     "data": {
      "text/html": [
       "<div>\n",
       "<style scoped>\n",
       "    .dataframe tbody tr th:only-of-type {\n",
       "        vertical-align: middle;\n",
       "    }\n",
       "\n",
       "    .dataframe tbody tr th {\n",
       "        vertical-align: top;\n",
       "    }\n",
       "\n",
       "    .dataframe thead th {\n",
       "        text-align: right;\n",
       "    }\n",
       "</style>\n",
       "<table border=\"1\" class=\"dataframe\">\n",
       "  <thead>\n",
       "    <tr style=\"text-align: right;\">\n",
       "      <th></th>\n",
       "      <th>자전거번호</th>\n",
       "      <th>대여일시</th>\n",
       "      <th>대여 대여소번호</th>\n",
       "      <th>대여 대여소명</th>\n",
       "      <th>대여거치대</th>\n",
       "      <th>반납일시</th>\n",
       "      <th>반납대여소번호</th>\n",
       "      <th>반납대여소명</th>\n",
       "      <th>반납거치대</th>\n",
       "      <th>이용시간</th>\n",
       "      <th>이용거리</th>\n",
       "    </tr>\n",
       "  </thead>\n",
       "  <tbody>\n",
       "    <tr>\n",
       "      <th>0</th>\n",
       "      <td>SPB-53145</td>\n",
       "      <td>2021-01-02 20:50:36</td>\n",
       "      <td>3</td>\n",
       "      <td>중랑센터</td>\n",
       "      <td>0</td>\n",
       "      <td>2021-01-02 21:15:41</td>\n",
       "      <td>668</td>\n",
       "      <td>서울축산농협(장안지점)</td>\n",
       "      <td>0</td>\n",
       "      <td>25.0</td>\n",
       "      <td>0.00</td>\n",
       "    </tr>\n",
       "    <tr>\n",
       "      <th>1</th>\n",
       "      <td>SPB-53074</td>\n",
       "      <td>2021-01-04 16:02:12</td>\n",
       "      <td>3</td>\n",
       "      <td>중랑센터</td>\n",
       "      <td>0</td>\n",
       "      <td>2021-01-04 16:17:06</td>\n",
       "      <td>668</td>\n",
       "      <td>서울축산농협(장안지점)</td>\n",
       "      <td>0</td>\n",
       "      <td>14.0</td>\n",
       "      <td>0.00</td>\n",
       "    </tr>\n",
       "    <tr>\n",
       "      <th>2</th>\n",
       "      <td>SPB-50952</td>\n",
       "      <td>2021-01-13 21:02:05</td>\n",
       "      <td>3</td>\n",
       "      <td>중랑센터</td>\n",
       "      <td>0</td>\n",
       "      <td>2021-01-13 21:14:04</td>\n",
       "      <td>668</td>\n",
       "      <td>서울축산농협(장안지점)</td>\n",
       "      <td>0</td>\n",
       "      <td>11.0</td>\n",
       "      <td>1853.99</td>\n",
       "    </tr>\n",
       "    <tr>\n",
       "      <th>3</th>\n",
       "      <td>SPB-52380</td>\n",
       "      <td>2021-01-14 21:02:55</td>\n",
       "      <td>3</td>\n",
       "      <td>중랑센터</td>\n",
       "      <td>0</td>\n",
       "      <td>2021-01-14 21:13:41</td>\n",
       "      <td>668</td>\n",
       "      <td>서울축산농협(장안지점)</td>\n",
       "      <td>0</td>\n",
       "      <td>10.0</td>\n",
       "      <td>0.00</td>\n",
       "    </tr>\n",
       "    <tr>\n",
       "      <th>4</th>\n",
       "      <td>SPB-52380</td>\n",
       "      <td>2021-01-18 18:02:08</td>\n",
       "      <td>3</td>\n",
       "      <td>중랑센터</td>\n",
       "      <td>0</td>\n",
       "      <td>2021-01-18 18:15:22</td>\n",
       "      <td>540</td>\n",
       "      <td>군자역 7번출구 베스트샵 앞</td>\n",
       "      <td>0</td>\n",
       "      <td>13.0</td>\n",
       "      <td>2291.05</td>\n",
       "    </tr>\n",
       "    <tr>\n",
       "      <th>...</th>\n",
       "      <td>...</td>\n",
       "      <td>...</td>\n",
       "      <td>...</td>\n",
       "      <td>...</td>\n",
       "      <td>...</td>\n",
       "      <td>...</td>\n",
       "      <td>...</td>\n",
       "      <td>...</td>\n",
       "      <td>...</td>\n",
       "      <td>...</td>\n",
       "      <td>...</td>\n",
       "    </tr>\n",
       "    <tr>\n",
       "      <th>1704292</th>\n",
       "      <td>SPB-51882</td>\n",
       "      <td>2021-12-30 09:39:45</td>\n",
       "      <td>9999</td>\n",
       "      <td>상담센터</td>\n",
       "      <td>0</td>\n",
       "      <td>2021-12-30 09:52:44</td>\n",
       "      <td>346</td>\n",
       "      <td>맥스타일 앞</td>\n",
       "      <td>0</td>\n",
       "      <td>12.0</td>\n",
       "      <td>0.00</td>\n",
       "    </tr>\n",
       "    <tr>\n",
       "      <th>1704293</th>\n",
       "      <td>SPB-51134</td>\n",
       "      <td>2021-12-30 18:55:31</td>\n",
       "      <td>9999</td>\n",
       "      <td>상담센터</td>\n",
       "      <td>0</td>\n",
       "      <td>2021-12-30 18:59:04</td>\n",
       "      <td>1986</td>\n",
       "      <td>태평양물산빌딩</td>\n",
       "      <td>0</td>\n",
       "      <td>3.0</td>\n",
       "      <td>0.00</td>\n",
       "    </tr>\n",
       "    <tr>\n",
       "      <th>1704294</th>\n",
       "      <td>SPB-37732</td>\n",
       "      <td>2021-12-30 21:12:40</td>\n",
       "      <td>9999</td>\n",
       "      <td>상담센터</td>\n",
       "      <td>0</td>\n",
       "      <td>2021-12-30 21:15:54</td>\n",
       "      <td>188</td>\n",
       "      <td>홍은동 정원여중 입구</td>\n",
       "      <td>0</td>\n",
       "      <td>3.0</td>\n",
       "      <td>345.45</td>\n",
       "    </tr>\n",
       "    <tr>\n",
       "      <th>1704295</th>\n",
       "      <td>SPB-51854</td>\n",
       "      <td>2021-12-22 09:46:16</td>\n",
       "      <td>88888</td>\n",
       "      <td>영남배송</td>\n",
       "      <td>0</td>\n",
       "      <td>2021-12-22 10:03:24</td>\n",
       "      <td>236</td>\n",
       "      <td>문래동자이아파트 앞</td>\n",
       "      <td>0</td>\n",
       "      <td>17.0</td>\n",
       "      <td>0.00</td>\n",
       "    </tr>\n",
       "    <tr>\n",
       "      <th>1704296</th>\n",
       "      <td>SPB-53564</td>\n",
       "      <td>2021-12-22 14:38:04</td>\n",
       "      <td>99999</td>\n",
       "      <td>영남단말기정비</td>\n",
       "      <td>0</td>\n",
       "      <td>2021-12-22 14:39:29</td>\n",
       "      <td>9998</td>\n",
       "      <td>영남주차장 정비센터</td>\n",
       "      <td>0</td>\n",
       "      <td>1.0</td>\n",
       "      <td>0.00</td>\n",
       "    </tr>\n",
       "  </tbody>\n",
       "</table>\n",
       "<p>30788945 rows × 11 columns</p>\n",
       "</div>"
      ],
      "text/plain": [
       "             자전거번호                 대여일시  대여 대여소번호  대여 대여소명 대여거치대  \\\n",
       "0        SPB-53145  2021-01-02 20:50:36         3     중랑센터     0   \n",
       "1        SPB-53074  2021-01-04 16:02:12         3     중랑센터     0   \n",
       "2        SPB-50952  2021-01-13 21:02:05         3     중랑센터     0   \n",
       "3        SPB-52380  2021-01-14 21:02:55         3     중랑센터     0   \n",
       "4        SPB-52380  2021-01-18 18:02:08         3     중랑센터     0   \n",
       "...            ...                  ...       ...      ...   ...   \n",
       "1704292  SPB-51882  2021-12-30 09:39:45      9999     상담센터     0   \n",
       "1704293  SPB-51134  2021-12-30 18:55:31      9999     상담센터     0   \n",
       "1704294  SPB-37732  2021-12-30 21:12:40      9999     상담센터     0   \n",
       "1704295  SPB-51854  2021-12-22 09:46:16     88888     영남배송     0   \n",
       "1704296  SPB-53564  2021-12-22 14:38:04     99999  영남단말기정비     0   \n",
       "\n",
       "                        반납일시 반납대여소번호           반납대여소명  반납거치대  이용시간     이용거리  \n",
       "0        2021-01-02 21:15:41     668     서울축산농협(장안지점)      0  25.0     0.00  \n",
       "1        2021-01-04 16:17:06     668     서울축산농협(장안지점)      0  14.0     0.00  \n",
       "2        2021-01-13 21:14:04     668     서울축산농협(장안지점)      0  11.0  1853.99  \n",
       "3        2021-01-14 21:13:41     668     서울축산농협(장안지점)      0  10.0     0.00  \n",
       "4        2021-01-18 18:15:22     540  군자역 7번출구 베스트샵 앞      0  13.0  2291.05  \n",
       "...                      ...     ...              ...    ...   ...      ...  \n",
       "1704292  2021-12-30 09:52:44     346           맥스타일 앞      0  12.0     0.00  \n",
       "1704293  2021-12-30 18:59:04    1986          태평양물산빌딩      0   3.0     0.00  \n",
       "1704294  2021-12-30 21:15:54     188      홍은동 정원여중 입구      0   3.0   345.45  \n",
       "1704295  2021-12-22 10:03:24     236       문래동자이아파트 앞      0  17.0     0.00  \n",
       "1704296  2021-12-22 14:39:29    9998       영남주차장 정비센터      0   1.0     0.00  \n",
       "\n",
       "[30788945 rows x 11 columns]"
      ]
     },
     "execution_count": 10,
     "metadata": {},
     "output_type": "execute_result"
    }
   ],
   "source": [
    "final_data"
   ]
  },
  {
   "cell_type": "code",
   "execution_count": 16,
   "id": "b8b5572a",
   "metadata": {},
   "outputs": [],
   "source": [
    "length = []\n",
    "\n",
    "for i in file_list:\n",
    "    file_path = path_dir + '/' + i\n",
    "    data = pd.read_csv(file_path, encoding = 'cp949')\n",
    "    length.append(len(data))"
   ]
  },
  {
   "cell_type": "code",
   "execution_count": 14,
   "id": "778ba75c",
   "metadata": {},
   "outputs": [
    {
     "data": {
      "text/plain": [
       "30788945"
      ]
     },
     "execution_count": 14,
     "metadata": {},
     "output_type": "execute_result"
    }
   ],
   "source": [
    "len(final_data)"
   ]
  },
  {
   "cell_type": "code",
   "execution_count": 17,
   "id": "9f72c702",
   "metadata": {},
   "outputs": [
    {
     "data": {
      "text/plain": [
       "[806503,\n",
       " 1226411,\n",
       " 2171980,\n",
       " 3027531,\n",
       " 2935504,\n",
       " 3445944,\n",
       " 3361560,\n",
       " 3219595,\n",
       " 3645807,\n",
       " 3028358,\n",
       " 2215455,\n",
       " 1704297]"
      ]
     },
     "execution_count": 17,
     "metadata": {},
     "output_type": "execute_result"
    }
   ],
   "source": [
    "length"
   ]
  },
  {
   "cell_type": "code",
   "execution_count": 18,
   "id": "cc7df706",
   "metadata": {},
   "outputs": [
    {
     "data": {
      "text/plain": [
       "30788945"
      ]
     },
     "execution_count": 18,
     "metadata": {},
     "output_type": "execute_result"
    }
   ],
   "source": [
    "sum(length)"
   ]
  },
  {
   "cell_type": "code",
   "execution_count": 23,
   "id": "4b1038de",
   "metadata": {},
   "outputs": [
    {
     "data": {
      "text/html": [
       "<div>\n",
       "<style scoped>\n",
       "    .dataframe tbody tr th:only-of-type {\n",
       "        vertical-align: middle;\n",
       "    }\n",
       "\n",
       "    .dataframe tbody tr th {\n",
       "        vertical-align: top;\n",
       "    }\n",
       "\n",
       "    .dataframe thead th {\n",
       "        text-align: right;\n",
       "    }\n",
       "</style>\n",
       "<table border=\"1\" class=\"dataframe\">\n",
       "  <thead>\n",
       "    <tr style=\"text-align: right;\">\n",
       "      <th></th>\n",
       "      <th>대여 대여소번호</th>\n",
       "      <th>반납거치대</th>\n",
       "      <th>이용시간</th>\n",
       "      <th>이용거리</th>\n",
       "    </tr>\n",
       "  </thead>\n",
       "  <tbody>\n",
       "    <tr>\n",
       "      <th>count</th>\n",
       "      <td>3.078894e+07</td>\n",
       "      <td>3.078894e+07</td>\n",
       "      <td>3.078894e+07</td>\n",
       "      <td>3.078868e+07</td>\n",
       "    </tr>\n",
       "    <tr>\n",
       "      <th>mean</th>\n",
       "      <td>1.687332e+03</td>\n",
       "      <td>2.391550e+00</td>\n",
       "      <td>2.573564e+01</td>\n",
       "      <td>2.809887e+03</td>\n",
       "    </tr>\n",
       "    <tr>\n",
       "      <th>std</th>\n",
       "      <td>1.242911e+03</td>\n",
       "      <td>1.515913e+01</td>\n",
       "      <td>3.144494e+01</td>\n",
       "      <td>3.642709e+03</td>\n",
       "    </tr>\n",
       "    <tr>\n",
       "      <th>min</th>\n",
       "      <td>3.000000e+00</td>\n",
       "      <td>0.000000e+00</td>\n",
       "      <td>0.000000e+00</td>\n",
       "      <td>0.000000e+00</td>\n",
       "    </tr>\n",
       "    <tr>\n",
       "      <th>25%</th>\n",
       "      <td>6.680000e+02</td>\n",
       "      <td>0.000000e+00</td>\n",
       "      <td>7.000000e+00</td>\n",
       "      <td>7.200000e+02</td>\n",
       "    </tr>\n",
       "    <tr>\n",
       "      <th>50%</th>\n",
       "      <td>1.362000e+03</td>\n",
       "      <td>0.000000e+00</td>\n",
       "      <td>1.500000e+01</td>\n",
       "      <td>1.556560e+03</td>\n",
       "    </tr>\n",
       "    <tr>\n",
       "      <th>75%</th>\n",
       "      <td>2.407000e+03</td>\n",
       "      <td>0.000000e+00</td>\n",
       "      <td>3.500000e+01</td>\n",
       "      <td>3.380000e+03</td>\n",
       "    </tr>\n",
       "    <tr>\n",
       "      <th>max</th>\n",
       "      <td>9.999900e+04</td>\n",
       "      <td>1.200000e+02</td>\n",
       "      <td>2.528404e+04</td>\n",
       "      <td>1.993206e+05</td>\n",
       "    </tr>\n",
       "  </tbody>\n",
       "</table>\n",
       "</div>"
      ],
      "text/plain": [
       "           대여 대여소번호         반납거치대          이용시간          이용거리\n",
       "count  3.078894e+07  3.078894e+07  3.078894e+07  3.078868e+07\n",
       "mean   1.687332e+03  2.391550e+00  2.573564e+01  2.809887e+03\n",
       "std    1.242911e+03  1.515913e+01  3.144494e+01  3.642709e+03\n",
       "min    3.000000e+00  0.000000e+00  0.000000e+00  0.000000e+00\n",
       "25%    6.680000e+02  0.000000e+00  7.000000e+00  7.200000e+02\n",
       "50%    1.362000e+03  0.000000e+00  1.500000e+01  1.556560e+03\n",
       "75%    2.407000e+03  0.000000e+00  3.500000e+01  3.380000e+03\n",
       "max    9.999900e+04  1.200000e+02  2.528404e+04  1.993206e+05"
      ]
     },
     "execution_count": 23,
     "metadata": {},
     "output_type": "execute_result"
    }
   ],
   "source": [
    "final_data.describe()"
   ]
  },
  {
   "cell_type": "code",
   "execution_count": 24,
   "id": "61d3f559",
   "metadata": {},
   "outputs": [
    {
     "name": "stdout",
     "output_type": "stream",
     "text": [
      "<class 'pandas.core.frame.DataFrame'>\n",
      "Int64Index: 30788945 entries, 0 to 1704296\n",
      "Data columns (total 11 columns):\n",
      " #   Column    Dtype  \n",
      "---  ------    -----  \n",
      " 0   자전거번호     object \n",
      " 1   대여일시      object \n",
      " 2   대여 대여소번호  int64  \n",
      " 3   대여 대여소명   object \n",
      " 4   대여거치대     object \n",
      " 5   반납일시      object \n",
      " 6   반납대여소번호   object \n",
      " 7   반납대여소명    object \n",
      " 8   반납거치대     int64  \n",
      " 9   이용시간      float64\n",
      " 10  이용거리      float64\n",
      "dtypes: float64(2), int64(2), object(7)\n",
      "memory usage: 2.8+ GB\n"
     ]
    }
   ],
   "source": [
    "final_data.info()"
   ]
  },
  {
   "cell_type": "code",
   "execution_count": 25,
   "id": "d5c61f2b",
   "metadata": {},
   "outputs": [
    {
     "data": {
      "text/plain": [
       "array([  0,   1,   8,  99,  11,   2,   6,   3,   4,   5,   7,  19,  10,\n",
       "         9,  12,  17,  20,  14,  13,  15,  33,  16,  18,  27,  38,  23,\n",
       "        21,  30,  40,  26,  22,  25,  28,  32,  29,  36,  24,  31,  37,\n",
       "        34,  35,  39,  58,  52,  87,  54,  43,  49, 120,  57, 105, 107,\n",
       "        60,  42,  86,  44,  71,  68, 108,  48,  62, 111,  50, 116,  41,\n",
       "        84,  65,  69,  72, 118,  59,  46,  47,  53,  56, 115,  45, 106,\n",
       "        74,  98,  55], dtype=int64)"
      ]
     },
     "execution_count": 25,
     "metadata": {},
     "output_type": "execute_result"
    }
   ],
   "source": [
    "final_data['반납거치대'].unique()"
   ]
  },
  {
   "cell_type": "code",
   "execution_count": 28,
   "id": "541ad1ea",
   "metadata": {},
   "outputs": [
    {
     "data": {
      "text/plain": [
       "(30788945, 11)"
      ]
     },
     "execution_count": 28,
     "metadata": {},
     "output_type": "execute_result"
    }
   ],
   "source": [
    "final_data.shape"
   ]
  },
  {
   "cell_type": "code",
   "execution_count": 31,
   "id": "31335fc2",
   "metadata": {},
   "outputs": [
    {
     "data": {
      "text/plain": [
       "(30788945, 11)"
      ]
     },
     "execution_count": 31,
     "metadata": {},
     "output_type": "execute_result"
    }
   ],
   "source": [
    "final_data.shape"
   ]
  },
  {
   "cell_type": "code",
   "execution_count": 33,
   "id": "1255899b",
   "metadata": {},
   "outputs": [
    {
     "data": {
      "text/plain": [
       "2508"
      ]
     },
     "execution_count": 33,
     "metadata": {},
     "output_type": "execute_result"
    }
   ],
   "source": [
    "len(final_data['대여 대여소번호'].unique())"
   ]
  },
  {
   "cell_type": "code",
   "execution_count": 34,
   "id": "a2931dac",
   "metadata": {},
   "outputs": [
    {
     "data": {
      "text/plain": [
       "array([   3,    5,   10, ..., 9990, 9988, 9993], dtype=int64)"
      ]
     },
     "execution_count": 34,
     "metadata": {},
     "output_type": "execute_result"
    }
   ],
   "source": [
    "final_data['대여 대여소번호'].unique()"
   ]
  },
  {
   "cell_type": "code",
   "execution_count": null,
   "id": "812c0acd",
   "metadata": {},
   "outputs": [],
   "source": []
  }
 ],
 "metadata": {
  "kernelspec": {
   "display_name": "Python 3 (ipykernel)",
   "language": "python",
   "name": "python3"
  },
  "language_info": {
   "codemirror_mode": {
    "name": "ipython",
    "version": 3
   },
   "file_extension": ".py",
   "mimetype": "text/x-python",
   "name": "python",
   "nbconvert_exporter": "python",
   "pygments_lexer": "ipython3",
   "version": "3.9.7"
  }
 },
 "nbformat": 4,
 "nbformat_minor": 5
}
