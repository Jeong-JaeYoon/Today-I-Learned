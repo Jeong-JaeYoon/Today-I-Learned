{
 "cells": [
  {
   "cell_type": "code",
   "execution_count": 82,
   "metadata": {},
   "outputs": [],
   "source": [
    "import numpy as np\n",
    "import pandas as pd\n",
    "from sklearn.model_selection import train_test_split\n",
    "from sklearn.preprocessing import StandardScaler\n",
    "from sklearn.svm import SVC"
   ]
  },
  {
   "cell_type": "code",
   "execution_count": 83,
   "metadata": {},
   "outputs": [
    {
     "name": "stdout",
     "output_type": "stream",
     "text": [
      "       AGE  TOT_LOAN  TOT_LOAN_CRD  LOAN_BNK  LOAN_CPT  CRDT_CNT  GUARN_CNT  \\\n",
      "0       40         6             6         6         0         0          0   \n",
      "1       35         9             9         0         0         1          0   \n",
      "2       55         9             9         0         0         0          0   \n",
      "3       55        42             0        42         0         5          0   \n",
      "4       40        36            36        36         0         3          1   \n",
      "...    ...       ...           ...       ...       ...       ...        ...   \n",
      "43381   50        63            63         0         0         0          0   \n",
      "43382   50         0             0         0         0         1          0   \n",
      "43383   45        42            42         0        42         0          0   \n",
      "43384   35         0             0         0         0         1          0   \n",
      "43385   25         9             9         9         0         0          0   \n",
      "\n",
      "       INCOME  LOAN_CRD_CNT  LATE_RATE  ...  CALL_TIME  TEL_COST_MON  \\\n",
      "0        4500             0         16  ...       1.52           120   \n",
      "1        3700             0          9  ...       2.14           100   \n",
      "2        6400             0          1  ...       0.50            50   \n",
      "3        8900             0         13  ...       2.61            80   \n",
      "4           0             0          2  ...       2.11            10   \n",
      "...       ...           ...        ...  ...        ...           ...   \n",
      "43381    4200             0          3  ...       0.60            80   \n",
      "43382    3400             0          0  ...       1.61            70   \n",
      "43383    6300             0          0  ...       0.95            70   \n",
      "43384    4000             0          0  ...       0.51            80   \n",
      "43385       0             0          0  ...      15.40           120   \n",
      "\n",
      "       MOBILE_PRICE  SUSP_DAY  LATE_TEL  COMB_COMM  SEX  PAY_METHOD  JOB  \\\n",
      "0               500         0       120          0    M           A    A   \n",
      "1               800         0         0          0    M           C    B   \n",
      "2               700         0         0          0    M           C    B   \n",
      "3               900         0         0          0    M           B    C   \n",
      "4               900         0         0          1    F           B    B   \n",
      "...             ...       ...       ...        ...  ...         ...  ...   \n",
      "43381           400         0       120          0    M           D    D   \n",
      "43382             0         0        70          0    F           D    D   \n",
      "43383             0         0        70          0    M           D    D   \n",
      "43384           400         0       190          0    F           D    D   \n",
      "43385           900         0       310          0    F           D    D   \n",
      "\n",
      "      TARGET  \n",
      "0          0  \n",
      "1          0  \n",
      "2          0  \n",
      "3          0  \n",
      "4          0  \n",
      "...      ...  \n",
      "43381      1  \n",
      "43382      1  \n",
      "43383      1  \n",
      "43384      1  \n",
      "43385      1  \n",
      "\n",
      "[43386 rows x 23 columns]\n"
     ]
    }
   ],
   "source": [
    "data = pd.read_csv('C:/Users/dmqa/Desktop/workspace/Today-I-Learned/2022-1-MultivariateStatisticalAnalysisForDataMining/loan_data.csv')\n",
    "print(data)"
   ]
  },
  {
   "cell_type": "code",
   "execution_count": 84,
   "metadata": {},
   "outputs": [
    {
     "data": {
      "text/html": [
       "<div>\n",
       "<style scoped>\n",
       "    .dataframe tbody tr th:only-of-type {\n",
       "        vertical-align: middle;\n",
       "    }\n",
       "\n",
       "    .dataframe tbody tr th {\n",
       "        vertical-align: top;\n",
       "    }\n",
       "\n",
       "    .dataframe thead th {\n",
       "        text-align: right;\n",
       "    }\n",
       "</style>\n",
       "<table border=\"1\" class=\"dataframe\">\n",
       "  <thead>\n",
       "    <tr style=\"text-align: right;\">\n",
       "      <th></th>\n",
       "      <th>AGE</th>\n",
       "      <th>TOT_LOAN</th>\n",
       "      <th>TOT_LOAN_CRD</th>\n",
       "      <th>LOAN_BNK</th>\n",
       "      <th>LOAN_CPT</th>\n",
       "      <th>CRDT_CNT</th>\n",
       "      <th>GUARN_CNT</th>\n",
       "      <th>INCOME</th>\n",
       "      <th>LOAN_CRD_CNT</th>\n",
       "      <th>LATE_RATE</th>\n",
       "      <th>LATE_RATE_1Y</th>\n",
       "      <th>INS_MON_MAX</th>\n",
       "      <th>CANCEL_CNT_1Y</th>\n",
       "      <th>CALL_TIME</th>\n",
       "      <th>TEL_COST_MON</th>\n",
       "      <th>MOBILE_PRICE</th>\n",
       "      <th>SUSP_DAY</th>\n",
       "      <th>LATE_TEL</th>\n",
       "      <th>COMB_COMM</th>\n",
       "      <th>TARGET</th>\n",
       "    </tr>\n",
       "  </thead>\n",
       "  <tbody>\n",
       "    <tr>\n",
       "      <th>count</th>\n",
       "      <td>43386.000000</td>\n",
       "      <td>43386.000000</td>\n",
       "      <td>43386.000000</td>\n",
       "      <td>43386.000000</td>\n",
       "      <td>43386.000000</td>\n",
       "      <td>43386.000000</td>\n",
       "      <td>43386.000000</td>\n",
       "      <td>43386.000000</td>\n",
       "      <td>43386.000000</td>\n",
       "      <td>43386.000000</td>\n",
       "      <td>43386.000000</td>\n",
       "      <td>43386.000000</td>\n",
       "      <td>43386.000000</td>\n",
       "      <td>43386.000000</td>\n",
       "      <td>43386.000000</td>\n",
       "      <td>43386.000000</td>\n",
       "      <td>43386.000000</td>\n",
       "      <td>43386.000000</td>\n",
       "      <td>43386.000000</td>\n",
       "      <td>43386.000000</td>\n",
       "    </tr>\n",
       "    <tr>\n",
       "      <th>mean</th>\n",
       "      <td>46.250980</td>\n",
       "      <td>82.019407</td>\n",
       "      <td>32.829622</td>\n",
       "      <td>49.324897</td>\n",
       "      <td>4.288641</td>\n",
       "      <td>3.004264</td>\n",
       "      <td>0.098695</td>\n",
       "      <td>2778.629051</td>\n",
       "      <td>0.163855</td>\n",
       "      <td>8.216406</td>\n",
       "      <td>6.389619</td>\n",
       "      <td>373.254506</td>\n",
       "      <td>0.024662</td>\n",
       "      <td>2.098970</td>\n",
       "      <td>75.477804</td>\n",
       "      <td>534.423547</td>\n",
       "      <td>18.433320</td>\n",
       "      <td>13.757664</td>\n",
       "      <td>0.425068</td>\n",
       "      <td>0.095238</td>\n",
       "    </tr>\n",
       "    <tr>\n",
       "      <th>std</th>\n",
       "      <td>9.693741</td>\n",
       "      <td>126.702976</td>\n",
       "      <td>83.419760</td>\n",
       "      <td>92.443944</td>\n",
       "      <td>12.660968</td>\n",
       "      <td>1.842478</td>\n",
       "      <td>0.529664</td>\n",
       "      <td>2470.097227</td>\n",
       "      <td>0.617522</td>\n",
       "      <td>12.120840</td>\n",
       "      <td>14.556618</td>\n",
       "      <td>690.067030</td>\n",
       "      <td>0.206476</td>\n",
       "      <td>15.364253</td>\n",
       "      <td>62.311464</td>\n",
       "      <td>382.237230</td>\n",
       "      <td>133.523351</td>\n",
       "      <td>53.272289</td>\n",
       "      <td>0.494359</td>\n",
       "      <td>0.293547</td>\n",
       "    </tr>\n",
       "    <tr>\n",
       "      <th>min</th>\n",
       "      <td>20.000000</td>\n",
       "      <td>0.000000</td>\n",
       "      <td>0.000000</td>\n",
       "      <td>0.000000</td>\n",
       "      <td>0.000000</td>\n",
       "      <td>0.000000</td>\n",
       "      <td>0.000000</td>\n",
       "      <td>0.000000</td>\n",
       "      <td>0.000000</td>\n",
       "      <td>0.000000</td>\n",
       "      <td>0.000000</td>\n",
       "      <td>0.000000</td>\n",
       "      <td>0.000000</td>\n",
       "      <td>0.000000</td>\n",
       "      <td>0.000000</td>\n",
       "      <td>0.000000</td>\n",
       "      <td>0.000000</td>\n",
       "      <td>0.000000</td>\n",
       "      <td>0.000000</td>\n",
       "      <td>0.000000</td>\n",
       "    </tr>\n",
       "    <tr>\n",
       "      <th>25%</th>\n",
       "      <td>40.000000</td>\n",
       "      <td>12.000000</td>\n",
       "      <td>0.000000</td>\n",
       "      <td>0.000000</td>\n",
       "      <td>0.000000</td>\n",
       "      <td>2.000000</td>\n",
       "      <td>0.000000</td>\n",
       "      <td>0.000000</td>\n",
       "      <td>0.000000</td>\n",
       "      <td>0.000000</td>\n",
       "      <td>0.000000</td>\n",
       "      <td>70.000000</td>\n",
       "      <td>0.000000</td>\n",
       "      <td>0.430000</td>\n",
       "      <td>40.000000</td>\n",
       "      <td>0.000000</td>\n",
       "      <td>0.000000</td>\n",
       "      <td>0.000000</td>\n",
       "      <td>0.000000</td>\n",
       "      <td>0.000000</td>\n",
       "    </tr>\n",
       "    <tr>\n",
       "      <th>50%</th>\n",
       "      <td>45.000000</td>\n",
       "      <td>36.000000</td>\n",
       "      <td>9.000000</td>\n",
       "      <td>9.000000</td>\n",
       "      <td>0.000000</td>\n",
       "      <td>3.000000</td>\n",
       "      <td>0.000000</td>\n",
       "      <td>3600.000000</td>\n",
       "      <td>0.000000</td>\n",
       "      <td>3.000000</td>\n",
       "      <td>0.000000</td>\n",
       "      <td>190.000000</td>\n",
       "      <td>0.000000</td>\n",
       "      <td>0.990000</td>\n",
       "      <td>60.000000</td>\n",
       "      <td>700.000000</td>\n",
       "      <td>0.000000</td>\n",
       "      <td>0.000000</td>\n",
       "      <td>0.000000</td>\n",
       "      <td>0.000000</td>\n",
       "    </tr>\n",
       "    <tr>\n",
       "      <th>75%</th>\n",
       "      <td>55.000000</td>\n",
       "      <td>102.000000</td>\n",
       "      <td>27.000000</td>\n",
       "      <td>60.000000</td>\n",
       "      <td>3.000000</td>\n",
       "      <td>4.000000</td>\n",
       "      <td>0.000000</td>\n",
       "      <td>4700.000000</td>\n",
       "      <td>0.000000</td>\n",
       "      <td>11.000000</td>\n",
       "      <td>10.000000</td>\n",
       "      <td>390.000000</td>\n",
       "      <td>0.000000</td>\n",
       "      <td>1.887500</td>\n",
       "      <td>80.000000</td>\n",
       "      <td>900.000000</td>\n",
       "      <td>0.000000</td>\n",
       "      <td>0.000000</td>\n",
       "      <td>1.000000</td>\n",
       "      <td>0.000000</td>\n",
       "    </tr>\n",
       "    <tr>\n",
       "      <th>max</th>\n",
       "      <td>70.000000</td>\n",
       "      <td>994.000000</td>\n",
       "      <td>994.000000</td>\n",
       "      <td>944.000000</td>\n",
       "      <td>301.000000</td>\n",
       "      <td>11.000000</td>\n",
       "      <td>10.000000</td>\n",
       "      <td>10000.000000</td>\n",
       "      <td>11.000000</td>\n",
       "      <td>100.000000</td>\n",
       "      <td>100.000000</td>\n",
       "      <td>10000.000000</td>\n",
       "      <td>6.000000</td>\n",
       "      <td>1520.000000</td>\n",
       "      <td>950.000000</td>\n",
       "      <td>1200.000000</td>\n",
       "      <td>2700.000000</td>\n",
       "      <td>1200.000000</td>\n",
       "      <td>1.000000</td>\n",
       "      <td>1.000000</td>\n",
       "    </tr>\n",
       "  </tbody>\n",
       "</table>\n",
       "</div>"
      ],
      "text/plain": [
       "                AGE      TOT_LOAN  TOT_LOAN_CRD      LOAN_BNK      LOAN_CPT  \\\n",
       "count  43386.000000  43386.000000  43386.000000  43386.000000  43386.000000   \n",
       "mean      46.250980     82.019407     32.829622     49.324897      4.288641   \n",
       "std        9.693741    126.702976     83.419760     92.443944     12.660968   \n",
       "min       20.000000      0.000000      0.000000      0.000000      0.000000   \n",
       "25%       40.000000     12.000000      0.000000      0.000000      0.000000   \n",
       "50%       45.000000     36.000000      9.000000      9.000000      0.000000   \n",
       "75%       55.000000    102.000000     27.000000     60.000000      3.000000   \n",
       "max       70.000000    994.000000    994.000000    944.000000    301.000000   \n",
       "\n",
       "           CRDT_CNT     GUARN_CNT        INCOME  LOAN_CRD_CNT     LATE_RATE  \\\n",
       "count  43386.000000  43386.000000  43386.000000  43386.000000  43386.000000   \n",
       "mean       3.004264      0.098695   2778.629051      0.163855      8.216406   \n",
       "std        1.842478      0.529664   2470.097227      0.617522     12.120840   \n",
       "min        0.000000      0.000000      0.000000      0.000000      0.000000   \n",
       "25%        2.000000      0.000000      0.000000      0.000000      0.000000   \n",
       "50%        3.000000      0.000000   3600.000000      0.000000      3.000000   \n",
       "75%        4.000000      0.000000   4700.000000      0.000000     11.000000   \n",
       "max       11.000000     10.000000  10000.000000     11.000000    100.000000   \n",
       "\n",
       "       LATE_RATE_1Y   INS_MON_MAX  CANCEL_CNT_1Y     CALL_TIME  TEL_COST_MON  \\\n",
       "count  43386.000000  43386.000000   43386.000000  43386.000000  43386.000000   \n",
       "mean       6.389619    373.254506       0.024662      2.098970     75.477804   \n",
       "std       14.556618    690.067030       0.206476     15.364253     62.311464   \n",
       "min        0.000000      0.000000       0.000000      0.000000      0.000000   \n",
       "25%        0.000000     70.000000       0.000000      0.430000     40.000000   \n",
       "50%        0.000000    190.000000       0.000000      0.990000     60.000000   \n",
       "75%       10.000000    390.000000       0.000000      1.887500     80.000000   \n",
       "max      100.000000  10000.000000       6.000000   1520.000000    950.000000   \n",
       "\n",
       "       MOBILE_PRICE      SUSP_DAY      LATE_TEL     COMB_COMM        TARGET  \n",
       "count  43386.000000  43386.000000  43386.000000  43386.000000  43386.000000  \n",
       "mean     534.423547     18.433320     13.757664      0.425068      0.095238  \n",
       "std      382.237230    133.523351     53.272289      0.494359      0.293547  \n",
       "min        0.000000      0.000000      0.000000      0.000000      0.000000  \n",
       "25%        0.000000      0.000000      0.000000      0.000000      0.000000  \n",
       "50%      700.000000      0.000000      0.000000      0.000000      0.000000  \n",
       "75%      900.000000      0.000000      0.000000      1.000000      0.000000  \n",
       "max     1200.000000   2700.000000   1200.000000      1.000000      1.000000  "
      ]
     },
     "execution_count": 84,
     "metadata": {},
     "output_type": "execute_result"
    }
   ],
   "source": [
    "data.describe()"
   ]
  },
  {
   "cell_type": "code",
   "execution_count": 85,
   "metadata": {},
   "outputs": [
    {
     "name": "stdout",
     "output_type": "stream",
     "text": [
      "       SEX_F  SEX_M  PAY_METHOD_A  PAY_METHOD_B  PAY_METHOD_C  PAY_METHOD_D  \\\n",
      "0          0      1             1             0             0             0   \n",
      "1          0      1             0             0             1             0   \n",
      "2          0      1             0             0             1             0   \n",
      "3          0      1             0             1             0             0   \n",
      "4          1      0             0             1             0             0   \n",
      "...      ...    ...           ...           ...           ...           ...   \n",
      "43381      0      1             0             0             0             1   \n",
      "43382      1      0             0             0             0             1   \n",
      "43383      0      1             0             0             0             1   \n",
      "43384      1      0             0             0             0             1   \n",
      "43385      1      0             0             0             0             1   \n",
      "\n",
      "       JOB_A  JOB_B  JOB_C  JOB_D  \n",
      "0          1      0      0      0  \n",
      "1          0      1      0      0  \n",
      "2          0      1      0      0  \n",
      "3          0      0      1      0  \n",
      "4          0      1      0      0  \n",
      "...      ...    ...    ...    ...  \n",
      "43381      0      0      0      1  \n",
      "43382      0      0      0      1  \n",
      "43383      0      0      0      1  \n",
      "43384      0      0      0      1  \n",
      "43385      0      0      0      1  \n",
      "\n",
      "[43386 rows x 10 columns]\n"
     ]
    }
   ],
   "source": [
    "y = data.iloc[:,-1]\n",
    "dummys = pd.get_dummies(data.iloc[:,19:22])\n",
    "print(dummys)"
   ]
  },
  {
   "cell_type": "code",
   "execution_count": 86,
   "metadata": {},
   "outputs": [
    {
     "name": "stdout",
     "output_type": "stream",
     "text": [
      "0        0\n",
      "1        0\n",
      "2        0\n",
      "3        0\n",
      "4        0\n",
      "        ..\n",
      "43381    1\n",
      "43382    1\n",
      "43383    1\n",
      "43384    1\n",
      "43385    1\n",
      "Name: TARGET, Length: 43386, dtype: int64\n"
     ]
    }
   ],
   "source": [
    "print(y)"
   ]
  },
  {
   "cell_type": "code",
   "execution_count": 87,
   "metadata": {},
   "outputs": [
    {
     "name": "stdout",
     "output_type": "stream",
     "text": [
      "       AGE  TOT_LOAN  TOT_LOAN_CRD  LOAN_BNK  LOAN_CPT  CRDT_CNT  GUARN_CNT  \\\n",
      "0       40         6             6         6         0         0          0   \n",
      "1       35         9             9         0         0         1          0   \n",
      "2       55         9             9         0         0         0          0   \n",
      "3       55        42             0        42         0         5          0   \n",
      "4       40        36            36        36         0         3          1   \n",
      "...    ...       ...           ...       ...       ...       ...        ...   \n",
      "43381   50        63            63         0         0         0          0   \n",
      "43382   50         0             0         0         0         1          0   \n",
      "43383   45        42            42         0        42         0          0   \n",
      "43384   35         0             0         0         0         1          0   \n",
      "43385   25         9             9         9         0         0          0   \n",
      "\n",
      "       INCOME  LOAN_CRD_CNT  LATE_RATE  ...  SEX_F  SEX_M  PAY_METHOD_A  \\\n",
      "0        4500             0         16  ...      0      1             1   \n",
      "1        3700             0          9  ...      0      1             0   \n",
      "2        6400             0          1  ...      0      1             0   \n",
      "3        8900             0         13  ...      0      1             0   \n",
      "4           0             0          2  ...      1      0             0   \n",
      "...       ...           ...        ...  ...    ...    ...           ...   \n",
      "43381    4200             0          3  ...      0      1             0   \n",
      "43382    3400             0          0  ...      1      0             0   \n",
      "43383    6300             0          0  ...      0      1             0   \n",
      "43384    4000             0          0  ...      1      0             0   \n",
      "43385       0             0          0  ...      1      0             0   \n",
      "\n",
      "       PAY_METHOD_B  PAY_METHOD_C  PAY_METHOD_D  JOB_A  JOB_B  JOB_C  JOB_D  \n",
      "0                 0             0             0      1      0      0      0  \n",
      "1                 0             1             0      0      1      0      0  \n",
      "2                 0             1             0      0      1      0      0  \n",
      "3                 1             0             0      0      0      1      0  \n",
      "4                 1             0             0      0      1      0      0  \n",
      "...             ...           ...           ...    ...    ...    ...    ...  \n",
      "43381             0             0             1      0      0      0      1  \n",
      "43382             0             0             1      0      0      0      1  \n",
      "43383             0             0             1      0      0      0      1  \n",
      "43384             0             0             1      0      0      0      1  \n",
      "43385             0             0             1      0      0      0      1  \n",
      "\n",
      "[43386 rows x 29 columns]\n"
     ]
    }
   ],
   "source": [
    "data = data.drop(['SEX', 'PAY_METHOD', 'JOB', 'TARGET'], axis=1)\n",
    "X = pd.concat([data.iloc[:,:22],dummys], axis=1)\n",
    "print(X)"
   ]
  },
  {
   "cell_type": "code",
   "execution_count": 88,
   "metadata": {},
   "outputs": [
    {
     "data": {
      "text/plain": [
       "Index(['AGE', 'TOT_LOAN', 'TOT_LOAN_CRD', 'LOAN_BNK', 'LOAN_CPT', 'CRDT_CNT',\n",
       "       'GUARN_CNT', 'INCOME', 'LOAN_CRD_CNT', 'LATE_RATE', 'LATE_RATE_1Y',\n",
       "       'INS_MON_MAX', 'CANCEL_CNT_1Y', 'CALL_TIME', 'TEL_COST_MON',\n",
       "       'MOBILE_PRICE', 'SUSP_DAY', 'LATE_TEL', 'COMB_COMM', 'SEX_F', 'SEX_M',\n",
       "       'PAY_METHOD_A', 'PAY_METHOD_B', 'PAY_METHOD_C', 'PAY_METHOD_D', 'JOB_A',\n",
       "       'JOB_B', 'JOB_C', 'JOB_D'],\n",
       "      dtype='object')"
      ]
     },
     "execution_count": 88,
     "metadata": {},
     "output_type": "execute_result"
    }
   ],
   "source": [
    "X.columns"
   ]
  },
  {
   "cell_type": "code",
   "execution_count": 90,
   "metadata": {},
   "outputs": [
    {
     "data": {
      "text/plain": [
       "<AxesSubplot:>"
      ]
     },
     "execution_count": 90,
     "metadata": {},
     "output_type": "execute_result"
    },
    {
     "data": {
      "image/png": "[encoded data removed]",
      "text/plain": [
       "<Figure size 432x288 with 1 Axes>"
      ]
     },
     "metadata": {
      "needs_background": "light"
     },
     "output_type": "display_data"
    }
   ],
   "source": [
    "y.value_counts().plot(kind = 'bar')"
   ]
  },
  {
   "cell_type": "code",
   "execution_count": 91,
   "metadata": {},
   "outputs": [
    {
     "name": "stdout",
     "output_type": "stream",
     "text": [
      "0    39254\n",
      "1     4132\n",
      "Name: TARGET, dtype: int64\n",
      "0    90.47619\n",
      "1     9.52381\n",
      "Name: TARGET, dtype: float64\n"
     ]
    }
   ],
   "source": [
    "print(y.value_counts())\n",
    "print(y.value_counts(normalize=True)*100)"
   ]
  },
  {
   "cell_type": "code",
   "execution_count": 92,
   "metadata": {},
   "outputs": [
    {
     "data": {
      "text/plain": [
       "AGE              0\n",
       "TOT_LOAN         0\n",
       "TOT_LOAN_CRD     0\n",
       "LOAN_BNK         0\n",
       "LOAN_CPT         0\n",
       "CRDT_CNT         0\n",
       "GUARN_CNT        0\n",
       "INCOME           0\n",
       "LOAN_CRD_CNT     0\n",
       "LATE_RATE        0\n",
       "LATE_RATE_1Y     0\n",
       "INS_MON_MAX      0\n",
       "CANCEL_CNT_1Y    0\n",
       "CALL_TIME        0\n",
       "TEL_COST_MON     0\n",
       "MOBILE_PRICE     0\n",
       "SUSP_DAY         0\n",
       "LATE_TEL         0\n",
       "COMB_COMM        0\n",
       "SEX_F            0\n",
       "SEX_M            0\n",
       "PAY_METHOD_A     0\n",
       "PAY_METHOD_B     0\n",
       "PAY_METHOD_C     0\n",
       "PAY_METHOD_D     0\n",
       "JOB_A            0\n",
       "JOB_B            0\n",
       "JOB_C            0\n",
       "JOB_D            0\n",
       "dtype: int64"
      ]
     },
     "execution_count": 92,
     "metadata": {},
     "output_type": "execute_result"
    }
   ],
   "source": [
    "X.isna().sum()"
   ]
  },
  {
   "cell_type": "code",
   "execution_count": 93,
   "metadata": {},
   "outputs": [
    {
     "name": "stdout",
     "output_type": "stream",
     "text": [
      "(34708, 29)\n",
      "(8678, 29)\n",
      "(34708,)\n",
      "(8678,)\n"
     ]
    }
   ],
   "source": [
    "X_train,X_test,y_train,y_test = train_test_split(X, y, stratify=y, test_size=0.2, random_state=42)\n",
    "print(X_train.shape)\n",
    "print(X_test.shape)\n",
    "print(y_train.shape)\n",
    "print(y_test.shape)"
   ]
  },
  {
   "cell_type": "code",
   "execution_count": 94,
   "metadata": {},
   "outputs": [
    {
     "name": "stdout",
     "output_type": "stream",
     "text": [
      "0    31402\n",
      "1     3306\n",
      "Name: TARGET, dtype: int64\n",
      "0    0.904748\n",
      "1    0.095252\n",
      "Name: TARGET, dtype: float64\n",
      "0    7852\n",
      "1     826\n",
      "Name: TARGET, dtype: int64\n",
      "0    0.904817\n",
      "1    0.095183\n",
      "Name: TARGET, dtype: float64\n"
     ]
    }
   ],
   "source": [
    "print(y_train.value_counts())\n",
    "print(y_train.value_counts(normalize=True))\n",
    "print(y_test.value_counts())\n",
    "print(y_test.value_counts(normalize=True))"
   ]
  },
  {
   "cell_type": "code",
   "execution_count": 95,
   "metadata": {},
   "outputs": [],
   "source": [
    "scaler = StandardScaler()\n",
    "X_train = scaler.fit_transform(X_train)\n",
    "X_test = scaler.transform(X_test)"
   ]
  },
  {
   "cell_type": "code",
   "execution_count": null,
   "metadata": {},
   "outputs": [],
   "source": []
  }
 ],
 "metadata": {
  "interpreter": {
   "hash": "5566a19ea2eb8243f2e46020995005b8ea5f36c5b0742081a986969e3d94e63d"
  },
  "kernelspec": {
   "display_name": "Python 3.9.7 ('main')",
   "language": "python",
   "name": "python3"
  },
  "language_info": {
   "codemirror_mode": {
    "name": "ipython",
    "version": 3
   },
   "file_extension": ".py",
   "mimetype": "text/x-python",
   "name": "python",
   "nbconvert_exporter": "python",
   "pygments_lexer": "ipython3",
   "version": "3.9.7"
  },
  "orig_nbformat": 4
 },
 "nbformat": 4,
 "nbformat_minor": 2
}
