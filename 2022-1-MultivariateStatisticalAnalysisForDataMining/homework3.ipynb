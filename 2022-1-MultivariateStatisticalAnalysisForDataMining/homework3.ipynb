{
 "cells": [
  {
   "cell_type": "code",
   "execution_count": 4,
   "metadata": {},
   "outputs": [],
   "source": [
    "import numpy as np\n",
    "import pandas as pd\n",
    "import matplotlib.pyplot as plt\n",
    "import scipy "
   ]
  },
  {
   "cell_type": "markdown",
   "metadata": {},
   "source": [
    "# 정상데이터 생성"
   ]
  },
  {
   "cell_type": "code",
   "execution_count": 14,
   "metadata": {},
   "outputs": [],
   "source": [
    "np.random.seed(seed=100)"
   ]
  },
  {
   "cell_type": "code",
   "execution_count": 16,
   "metadata": {},
   "outputs": [
    {
     "name": "stdout",
     "output_type": "stream",
     "text": [
      "[[-1.25253007  1.17099173  4.77632546  1.77992163  3.65846926]\n",
      " [ 0.45476536  1.23842571  1.88339247  2.51946294  3.85855021]\n",
      " [ 0.74611436  0.7675508   2.85503085  2.91782044  5.22791719]\n",
      " ...\n",
      " [ 0.40834327  1.1962631   2.22614264  3.24334059  5.56811999]\n",
      " [ 0.04546482  1.54037043  3.33851526  3.94451433  3.52068114]\n",
      " [-0.059415    2.12050151  2.06346235  1.66879586  4.61980358]]\n",
      "(500, 5)\n"
     ]
    }
   ],
   "source": [
    "mean = [i for i in range(5)]\n",
    "cov = np.eye(5)\n",
    "\n",
    "multi_normaldata = np.random.multivariate_normal(mean=mean, cov=cov, size = 500)\n",
    "print(multi_normaldata)\n",
    "print(multi_normaldata.shape)"
   ]
  },
  {
   "cell_type": "code",
   "execution_count": 17,
   "metadata": {},
   "outputs": [
    {
     "data": {
      "text/html": [
       "<div>\n",
       "<style scoped>\n",
       "    .dataframe tbody tr th:only-of-type {\n",
       "        vertical-align: middle;\n",
       "    }\n",
       "\n",
       "    .dataframe tbody tr th {\n",
       "        vertical-align: top;\n",
       "    }\n",
       "\n",
       "    .dataframe thead th {\n",
       "        text-align: right;\n",
       "    }\n",
       "</style>\n",
       "<table border=\"1\" class=\"dataframe\">\n",
       "  <thead>\n",
       "    <tr style=\"text-align: right;\">\n",
       "      <th></th>\n",
       "      <th>0</th>\n",
       "      <th>1</th>\n",
       "      <th>2</th>\n",
       "      <th>3</th>\n",
       "      <th>4</th>\n",
       "    </tr>\n",
       "  </thead>\n",
       "  <tbody>\n",
       "    <tr>\n",
       "      <th>count</th>\n",
       "      <td>500.000000</td>\n",
       "      <td>500.000000</td>\n",
       "      <td>500.000000</td>\n",
       "      <td>500.000000</td>\n",
       "      <td>500.000000</td>\n",
       "    </tr>\n",
       "    <tr>\n",
       "      <th>mean</th>\n",
       "      <td>-0.034840</td>\n",
       "      <td>1.056663</td>\n",
       "      <td>2.022291</td>\n",
       "      <td>2.943293</td>\n",
       "      <td>4.058814</td>\n",
       "    </tr>\n",
       "    <tr>\n",
       "      <th>std</th>\n",
       "      <td>1.011013</td>\n",
       "      <td>1.043417</td>\n",
       "      <td>0.971748</td>\n",
       "      <td>1.033842</td>\n",
       "      <td>1.029656</td>\n",
       "    </tr>\n",
       "    <tr>\n",
       "      <th>min</th>\n",
       "      <td>-2.828131</td>\n",
       "      <td>-1.995659</td>\n",
       "      <td>-0.708962</td>\n",
       "      <td>0.108489</td>\n",
       "      <td>1.116270</td>\n",
       "    </tr>\n",
       "    <tr>\n",
       "      <th>25%</th>\n",
       "      <td>-0.716902</td>\n",
       "      <td>0.343868</td>\n",
       "      <td>1.371638</td>\n",
       "      <td>2.181862</td>\n",
       "      <td>3.421487</td>\n",
       "    </tr>\n",
       "    <tr>\n",
       "      <th>50%</th>\n",
       "      <td>-0.069669</td>\n",
       "      <td>1.075498</td>\n",
       "      <td>2.083485</td>\n",
       "      <td>2.955267</td>\n",
       "      <td>4.055350</td>\n",
       "    </tr>\n",
       "    <tr>\n",
       "      <th>75%</th>\n",
       "      <td>0.632425</td>\n",
       "      <td>1.745825</td>\n",
       "      <td>2.660454</td>\n",
       "      <td>3.671104</td>\n",
       "      <td>4.745957</td>\n",
       "    </tr>\n",
       "    <tr>\n",
       "      <th>max</th>\n",
       "      <td>3.447513</td>\n",
       "      <td>3.941900</td>\n",
       "      <td>5.819192</td>\n",
       "      <td>5.676020</td>\n",
       "      <td>7.458597</td>\n",
       "    </tr>\n",
       "  </tbody>\n",
       "</table>\n",
       "</div>"
      ],
      "text/plain": [
       "                0           1           2           3           4\n",
       "count  500.000000  500.000000  500.000000  500.000000  500.000000\n",
       "mean    -0.034840    1.056663    2.022291    2.943293    4.058814\n",
       "std      1.011013    1.043417    0.971748    1.033842    1.029656\n",
       "min     -2.828131   -1.995659   -0.708962    0.108489    1.116270\n",
       "25%     -0.716902    0.343868    1.371638    2.181862    3.421487\n",
       "50%     -0.069669    1.075498    2.083485    2.955267    4.055350\n",
       "75%      0.632425    1.745825    2.660454    3.671104    4.745957\n",
       "max      3.447513    3.941900    5.819192    5.676020    7.458597"
      ]
     },
     "execution_count": 17,
     "metadata": {},
     "output_type": "execute_result"
    }
   ],
   "source": [
    "df_normal = pd.DataFrame(multi_normaldata)\n",
    "df_normal.describe()"
   ]
  },
  {
   "cell_type": "markdown",
   "metadata": {},
   "source": [
    "# 이상데이터 생성"
   ]
  },
  {
   "cell_type": "code",
   "execution_count": null,
   "metadata": {},
   "outputs": [],
   "source": []
  }
 ],
 "metadata": {
  "interpreter": {
   "hash": "058933e5a9539b895803c8a407e7cd16e9f082b776031d7d55030e1fab45754b"
  },
  "kernelspec": {
   "display_name": "Python 3.9.7 ('base')",
   "language": "python",
   "name": "python3"
  },
  "language_info": {
   "codemirror_mode": {
    "name": "ipython",
    "version": 3
   },
   "file_extension": ".py",
   "mimetype": "text/x-python",
   "name": "python",
   "nbconvert_exporter": "python",
   "pygments_lexer": "ipython3",
   "version": "3.9.10"
  },
  "orig_nbformat": 4
 },
 "nbformat": 4,
 "nbformat_minor": 2
}
