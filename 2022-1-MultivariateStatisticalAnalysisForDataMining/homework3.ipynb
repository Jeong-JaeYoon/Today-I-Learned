{
 "cells": [
  {
   "cell_type": "code",
   "execution_count": 232,
   "metadata": {},
   "outputs": [],
   "source": [
    "import numpy as np\n",
    "import pandas as pd\n",
    "import matplotlib.pyplot as plt\n",
    "import scipy.stats as stats\n",
    "from scipy.stats import beta"
   ]
  },
  {
   "cell_type": "markdown",
   "metadata": {},
   "source": [
    "# 데이터 생성"
   ]
  },
  {
   "cell_type": "code",
   "execution_count": 233,
   "metadata": {},
   "outputs": [],
   "source": [
    "mean = [0 for _ in range(5)]\n",
    "cov = np.eye(5)\n",
    "normal = np.random.multivariate_normal(mean=mean, cov=cov, size = 510)"
   ]
  },
  {
   "cell_type": "code",
   "execution_count": 234,
   "metadata": {},
   "outputs": [
    {
     "data": {
      "text/html": [
       "<div>\n",
       "<style scoped>\n",
       "    .dataframe tbody tr th:only-of-type {\n",
       "        vertical-align: middle;\n",
       "    }\n",
       "\n",
       "    .dataframe tbody tr th {\n",
       "        vertical-align: top;\n",
       "    }\n",
       "\n",
       "    .dataframe thead th {\n",
       "        text-align: right;\n",
       "    }\n",
       "</style>\n",
       "<table border=\"1\" class=\"dataframe\">\n",
       "  <thead>\n",
       "    <tr style=\"text-align: right;\">\n",
       "      <th></th>\n",
       "      <th>0</th>\n",
       "      <th>1</th>\n",
       "      <th>2</th>\n",
       "      <th>3</th>\n",
       "      <th>4</th>\n",
       "    </tr>\n",
       "  </thead>\n",
       "  <tbody>\n",
       "    <tr>\n",
       "      <th>count</th>\n",
       "      <td>510.000000</td>\n",
       "      <td>510.000000</td>\n",
       "      <td>510.000000</td>\n",
       "      <td>510.000000</td>\n",
       "      <td>510.000000</td>\n",
       "    </tr>\n",
       "    <tr>\n",
       "      <th>mean</th>\n",
       "      <td>-0.005997</td>\n",
       "      <td>-0.000352</td>\n",
       "      <td>-0.003165</td>\n",
       "      <td>-0.021829</td>\n",
       "      <td>0.024715</td>\n",
       "    </tr>\n",
       "    <tr>\n",
       "      <th>std</th>\n",
       "      <td>0.945806</td>\n",
       "      <td>1.004634</td>\n",
       "      <td>0.958843</td>\n",
       "      <td>0.985300</td>\n",
       "      <td>0.965823</td>\n",
       "    </tr>\n",
       "    <tr>\n",
       "      <th>min</th>\n",
       "      <td>-2.801779</td>\n",
       "      <td>-3.457839</td>\n",
       "      <td>-3.143743</td>\n",
       "      <td>-2.427268</td>\n",
       "      <td>-2.593156</td>\n",
       "    </tr>\n",
       "    <tr>\n",
       "      <th>25%</th>\n",
       "      <td>-0.653977</td>\n",
       "      <td>-0.700952</td>\n",
       "      <td>-0.635635</td>\n",
       "      <td>-0.652530</td>\n",
       "      <td>-0.647084</td>\n",
       "    </tr>\n",
       "    <tr>\n",
       "      <th>50%</th>\n",
       "      <td>-0.014322</td>\n",
       "      <td>0.026938</td>\n",
       "      <td>-0.026835</td>\n",
       "      <td>-0.002857</td>\n",
       "      <td>0.020884</td>\n",
       "    </tr>\n",
       "    <tr>\n",
       "      <th>75%</th>\n",
       "      <td>0.664376</td>\n",
       "      <td>0.708343</td>\n",
       "      <td>0.627992</td>\n",
       "      <td>0.598433</td>\n",
       "      <td>0.684639</td>\n",
       "    </tr>\n",
       "    <tr>\n",
       "      <th>max</th>\n",
       "      <td>3.506806</td>\n",
       "      <td>3.180742</td>\n",
       "      <td>3.082400</td>\n",
       "      <td>2.583411</td>\n",
       "      <td>3.190569</td>\n",
       "    </tr>\n",
       "  </tbody>\n",
       "</table>\n",
       "</div>"
      ],
      "text/plain": [
       "                0           1           2           3           4\n",
       "count  510.000000  510.000000  510.000000  510.000000  510.000000\n",
       "mean    -0.005997   -0.000352   -0.003165   -0.021829    0.024715\n",
       "std      0.945806    1.004634    0.958843    0.985300    0.965823\n",
       "min     -2.801779   -3.457839   -3.143743   -2.427268   -2.593156\n",
       "25%     -0.653977   -0.700952   -0.635635   -0.652530   -0.647084\n",
       "50%     -0.014322    0.026938   -0.026835   -0.002857    0.020884\n",
       "75%      0.664376    0.708343    0.627992    0.598433    0.684639\n",
       "max      3.506806    3.180742    3.082400    2.583411    3.190569"
      ]
     },
     "execution_count": 234,
     "metadata": {},
     "output_type": "execute_result"
    }
   ],
   "source": [
    "df_normal = pd.DataFrame(normal)\n",
    "df_normal.describe()"
   ]
  },
  {
   "cell_type": "markdown",
   "metadata": {},
   "source": [
    "# 이상데이터 생성"
   ]
  },
  {
   "cell_type": "code",
   "execution_count": 235,
   "metadata": {},
   "outputs": [
    {
     "name": "stdout",
     "output_type": "stream",
     "text": [
      "[ 50 258 312 310 482 378 464 388  27 453]\n"
     ]
    }
   ],
   "source": [
    "index = np.random.randint(len(normal), size = 10)\n",
    "print(index)"
   ]
  },
  {
   "cell_type": "code",
   "execution_count": 236,
   "metadata": {},
   "outputs": [],
   "source": [
    "for idx in index:\n",
    "    i = np.random.randint(5)\n",
    "    normal[idx][i] = np.random.uniform(10,20)"
   ]
  },
  {
   "cell_type": "code",
   "execution_count": 237,
   "metadata": {},
   "outputs": [
    {
     "name": "stdout",
     "output_type": "stream",
     "text": [
      "[-1.61002152 -0.54660351 10.46844344 -0.18305432 -0.54496149]\n",
      "[ 2.25952269 13.78937796 -0.34473299  0.5448395   0.21925311]\n",
      "[-0.2553033   0.47768599 -0.64301036  2.4489424  13.30008517]\n",
      "[-7.15096650e-04 -9.58339570e-01 -1.94531187e+00  1.70116449e+01\n",
      "  1.66278502e+00]\n",
      "[ 0.05010485 -0.8685372   0.14011598  0.53968237 11.00233966]\n",
      "[17.98661905 -1.83646074 -0.05391956  2.13355655 -0.48403602]\n",
      "[-0.53044561 -1.03000794 -1.1359361   1.13033313 13.73474248]\n",
      "[-0.8346181  11.88496083  1.54688346 -1.2554936   1.75533976]\n",
      "[-0.15456394 -0.77742541 -1.09601583 -0.27770575 10.21490064]\n",
      "[-2.54762621  0.02852739  0.88058677 -0.08166563 10.28517468]\n"
     ]
    }
   ],
   "source": [
    "for idx in index:\n",
    "    print(normal[idx])"
   ]
  },
  {
   "cell_type": "code",
   "execution_count": 238,
   "metadata": {},
   "outputs": [
    {
     "name": "stdout",
     "output_type": "stream",
     "text": [
      "           0          1          2          3          4\n",
      "0  -1.610022  -0.546604  10.468443  -0.183054  -0.544961\n",
      "1   2.259523  13.789378  -0.344733   0.544840   0.219253\n",
      "2  -0.255303   0.477686  -0.643010   2.448942  13.300085\n",
      "3  -0.000715  -0.958340  -1.945312  17.011645   1.662785\n",
      "4   0.050105  -0.868537   0.140116   0.539682  11.002340\n",
      "5  17.986619  -1.836461  -0.053920   2.133557  -0.484036\n",
      "6  -0.530446  -1.030008  -1.135936   1.130333  13.734742\n",
      "7  -0.834618  11.884961   1.546883  -1.255494   1.755340\n",
      "8  -0.154564  -0.777425  -1.096016  -0.277706  10.214901\n",
      "9  -2.547626   0.028527   0.880587  -0.081666  10.285175\n"
     ]
    }
   ],
   "source": [
    "abnormal = pd.DataFrame(normal[index])\n",
    "print(abnormal)"
   ]
  },
  {
   "cell_type": "code",
   "execution_count": 239,
   "metadata": {},
   "outputs": [
    {
     "name": "stdout",
     "output_type": "stream",
     "text": [
      "            0         1         2         3         4\n",
      "0    0.000990 -0.473867  0.781396 -0.640097 -0.006279\n",
      "1   -0.471899  0.135699  0.294581  0.560206  1.905674\n",
      "2   -0.384861  0.442107 -0.497456  1.070685 -0.128237\n",
      "3    1.128862  0.163510 -0.083166  1.283647  1.450824\n",
      "4    0.262030 -0.798552 -0.539829  0.307104  0.897267\n",
      "..        ...       ...       ...       ...       ...\n",
      "505  0.248425 -0.338301 -1.099257 -0.260456  0.946239\n",
      "506  0.283206 -0.563463  1.858679  0.241870 -0.939041\n",
      "507 -0.432521 -0.582380  1.342277  0.324367 -0.092655\n",
      "508  0.011062  0.013503  0.426667 -0.305833  1.279180\n",
      "509  0.771294 -1.660698 -0.021788 -1.850601 -0.975274\n",
      "\n",
      "[510 rows x 5 columns]\n",
      "                0           1           2           3           4\n",
      "count  510.000000  510.000000  510.000000  510.000000  510.000000\n",
      "mean     0.028551    0.048491    0.017819    0.011282    0.138949\n",
      "std      1.236567    1.287035    1.065019    1.240844    1.507793\n",
      "min     -2.801779   -3.457839   -3.143743   -2.427268   -2.593156\n",
      "25%     -0.653977   -0.700952   -0.635635   -0.652530   -0.642912\n",
      "50%     -0.014322    0.031773   -0.024022   -0.002857    0.035374\n",
      "75%      0.671560    0.708928    0.637532    0.601704    0.699708\n",
      "max     17.986619   13.789378   10.468443   17.011645   13.734742\n"
     ]
    }
   ],
   "source": [
    "data = pd.DataFrame(normal)\n",
    "print(data)\n",
    "print(data.describe())"
   ]
  },
  {
   "cell_type": "code",
   "execution_count": 240,
   "metadata": {},
   "outputs": [],
   "source": [
    "array_data = np.array(data)\n",
    "num_sample = len(data)\n",
    "\n",
    "p = array_data.shape[1]\n",
    "\n",
    "col_mean = np.mean(array_data, axis=0)  # column mean\n",
    "mat_cov = np.cov(array_data.T)  # covariance\n",
    "mat_inv_s = np.linalg.inv(mat_cov)  # inverse S\n",
    "\n",
    "values = []\n",
    "for sample in array_data:\n",
    "    dif = sample - col_mean\n",
    "    value = mat_inv_s.dot(dif.T).dot(dif)  # T-square\n",
    "    values.append(value)\n",
    "\n",
    "t2 = pd.DataFrame(values, columns=['T2'])\n",
    "\n",
    "final_data = pd.concat([data,t2], axis=1)"
   ]
  },
  {
   "cell_type": "code",
   "execution_count": 241,
   "metadata": {},
   "outputs": [
    {
     "data": {
      "text/html": [
       "<div>\n",
       "<style scoped>\n",
       "    .dataframe tbody tr th:only-of-type {\n",
       "        vertical-align: middle;\n",
       "    }\n",
       "\n",
       "    .dataframe tbody tr th {\n",
       "        vertical-align: top;\n",
       "    }\n",
       "\n",
       "    .dataframe thead th {\n",
       "        text-align: right;\n",
       "    }\n",
       "</style>\n",
       "<table border=\"1\" class=\"dataframe\">\n",
       "  <thead>\n",
       "    <tr style=\"text-align: right;\">\n",
       "      <th></th>\n",
       "      <th>0</th>\n",
       "      <th>1</th>\n",
       "      <th>2</th>\n",
       "      <th>3</th>\n",
       "      <th>4</th>\n",
       "      <th>T2</th>\n",
       "    </tr>\n",
       "  </thead>\n",
       "  <tbody>\n",
       "    <tr>\n",
       "      <th>0</th>\n",
       "      <td>0.000990</td>\n",
       "      <td>-0.473867</td>\n",
       "      <td>0.781396</td>\n",
       "      <td>-0.640097</td>\n",
       "      <td>-0.006279</td>\n",
       "      <td>0.897790</td>\n",
       "    </tr>\n",
       "    <tr>\n",
       "      <th>1</th>\n",
       "      <td>-0.471899</td>\n",
       "      <td>0.135699</td>\n",
       "      <td>0.294581</td>\n",
       "      <td>0.560206</td>\n",
       "      <td>1.905674</td>\n",
       "      <td>1.781831</td>\n",
       "    </tr>\n",
       "    <tr>\n",
       "      <th>2</th>\n",
       "      <td>-0.384861</td>\n",
       "      <td>0.442107</td>\n",
       "      <td>-0.497456</td>\n",
       "      <td>1.070685</td>\n",
       "      <td>-0.128237</td>\n",
       "      <td>1.164030</td>\n",
       "    </tr>\n",
       "    <tr>\n",
       "      <th>3</th>\n",
       "      <td>1.128862</td>\n",
       "      <td>0.163510</td>\n",
       "      <td>-0.083166</td>\n",
       "      <td>1.283647</td>\n",
       "      <td>1.450824</td>\n",
       "      <td>2.570372</td>\n",
       "    </tr>\n",
       "    <tr>\n",
       "      <th>4</th>\n",
       "      <td>0.262030</td>\n",
       "      <td>-0.798552</td>\n",
       "      <td>-0.539829</td>\n",
       "      <td>0.307104</td>\n",
       "      <td>0.897267</td>\n",
       "      <td>0.980163</td>\n",
       "    </tr>\n",
       "    <tr>\n",
       "      <th>...</th>\n",
       "      <td>...</td>\n",
       "      <td>...</td>\n",
       "      <td>...</td>\n",
       "      <td>...</td>\n",
       "      <td>...</td>\n",
       "      <td>...</td>\n",
       "    </tr>\n",
       "    <tr>\n",
       "      <th>505</th>\n",
       "      <td>0.248425</td>\n",
       "      <td>-0.338301</td>\n",
       "      <td>-1.099257</td>\n",
       "      <td>-0.260456</td>\n",
       "      <td>0.946239</td>\n",
       "      <td>1.613658</td>\n",
       "    </tr>\n",
       "    <tr>\n",
       "      <th>506</th>\n",
       "      <td>0.283206</td>\n",
       "      <td>-0.563463</td>\n",
       "      <td>1.858679</td>\n",
       "      <td>0.241870</td>\n",
       "      <td>-0.939041</td>\n",
       "      <td>3.836639</td>\n",
       "    </tr>\n",
       "    <tr>\n",
       "      <th>507</th>\n",
       "      <td>-0.432521</td>\n",
       "      <td>-0.582380</td>\n",
       "      <td>1.342277</td>\n",
       "      <td>0.324367</td>\n",
       "      <td>-0.092655</td>\n",
       "      <td>2.087211</td>\n",
       "    </tr>\n",
       "    <tr>\n",
       "      <th>508</th>\n",
       "      <td>0.011062</td>\n",
       "      <td>0.013503</td>\n",
       "      <td>0.426667</td>\n",
       "      <td>-0.305833</td>\n",
       "      <td>1.279180</td>\n",
       "      <td>0.806832</td>\n",
       "    </tr>\n",
       "    <tr>\n",
       "      <th>509</th>\n",
       "      <td>0.771294</td>\n",
       "      <td>-1.660698</td>\n",
       "      <td>-0.021788</td>\n",
       "      <td>-1.850601</td>\n",
       "      <td>-0.975274</td>\n",
       "      <td>5.007410</td>\n",
       "    </tr>\n",
       "  </tbody>\n",
       "</table>\n",
       "<p>510 rows × 6 columns</p>\n",
       "</div>"
      ],
      "text/plain": [
       "            0         1         2         3         4        T2\n",
       "0    0.000990 -0.473867  0.781396 -0.640097 -0.006279  0.897790\n",
       "1   -0.471899  0.135699  0.294581  0.560206  1.905674  1.781831\n",
       "2   -0.384861  0.442107 -0.497456  1.070685 -0.128237  1.164030\n",
       "3    1.128862  0.163510 -0.083166  1.283647  1.450824  2.570372\n",
       "4    0.262030 -0.798552 -0.539829  0.307104  0.897267  0.980163\n",
       "..        ...       ...       ...       ...       ...       ...\n",
       "505  0.248425 -0.338301 -1.099257 -0.260456  0.946239  1.613658\n",
       "506  0.283206 -0.563463  1.858679  0.241870 -0.939041  3.836639\n",
       "507 -0.432521 -0.582380  1.342277  0.324367 -0.092655  2.087211\n",
       "508  0.011062  0.013503  0.426667 -0.305833  1.279180  0.806832\n",
       "509  0.771294 -1.660698 -0.021788 -1.850601 -0.975274  5.007410\n",
       "\n",
       "[510 rows x 6 columns]"
      ]
     },
     "execution_count": 241,
     "metadata": {},
     "output_type": "execute_result"
    }
   ],
   "source": [
    "final_data"
   ]
  },
  {
   "cell_type": "code",
   "execution_count": 242,
   "metadata": {},
   "outputs": [],
   "source": [
    "T2 = np.array(values)\n",
    "\n",
    "for i in range(len(data.columns)):\n",
    "    \n",
    "    # d_i 구하기\n",
    "    final_di = data.drop(data.columns[i], axis=1)\n",
    "    \n",
    "\n",
    "    array_data2 = np.array(final_di)\n",
    "    \n",
    "    col_mean2 = np.mean(array_data2, axis=0)  # column mean\n",
    "    mat_cov2 = np.cov(array_data2.T)  # covariance\n",
    "    mat_inv_s2 = np.linalg.inv(mat_cov2)  # inverse S\n",
    "    \n",
    "    values = []\n",
    "    \n",
    "    for sample in array_data2:\n",
    "        dif = sample - col_mean2\n",
    "        value = mat_inv_s2.dot(dif.T).dot(dif)  # T-square\n",
    "        values.append(value)\n",
    "      \n",
    "    values = np.array(values)\n",
    "    di = T2 - values\n",
    "    \n",
    "    #  globals()['d_{}'.format(i+1)] = di\n",
    "\n",
    "    \n",
    "    final_data['d_{}'.format(i+1)] = di  \n",
    "    \n",
    "di_table = final_data[['d_1','d_2','d_3','d_4','d_5']]"
   ]
  },
  {
   "cell_type": "code",
   "execution_count": 243,
   "metadata": {},
   "outputs": [
    {
     "data": {
      "text/html": [
       "<div>\n",
       "<style scoped>\n",
       "    .dataframe tbody tr th:only-of-type {\n",
       "        vertical-align: middle;\n",
       "    }\n",
       "\n",
       "    .dataframe tbody tr th {\n",
       "        vertical-align: top;\n",
       "    }\n",
       "\n",
       "    .dataframe thead th {\n",
       "        text-align: right;\n",
       "    }\n",
       "</style>\n",
       "<table border=\"1\" class=\"dataframe\">\n",
       "  <thead>\n",
       "    <tr style=\"text-align: right;\">\n",
       "      <th></th>\n",
       "      <th>d_1</th>\n",
       "      <th>d_2</th>\n",
       "      <th>d_3</th>\n",
       "      <th>d_4</th>\n",
       "      <th>d_5</th>\n",
       "    </tr>\n",
       "  </thead>\n",
       "  <tbody>\n",
       "    <tr>\n",
       "      <th>0</th>\n",
       "      <td>0.001143</td>\n",
       "      <td>0.182133</td>\n",
       "      <td>0.428974</td>\n",
       "      <td>0.214693</td>\n",
       "      <td>0.002764</td>\n",
       "    </tr>\n",
       "    <tr>\n",
       "      <th>1</th>\n",
       "      <td>0.137900</td>\n",
       "      <td>0.008344</td>\n",
       "      <td>0.117674</td>\n",
       "      <td>0.173008</td>\n",
       "      <td>1.320219</td>\n",
       "    </tr>\n",
       "    <tr>\n",
       "      <th>2</th>\n",
       "      <td>0.110236</td>\n",
       "      <td>0.107282</td>\n",
       "      <td>0.156316</td>\n",
       "      <td>0.691887</td>\n",
       "      <td>0.058962</td>\n",
       "    </tr>\n",
       "    <tr>\n",
       "      <th>3</th>\n",
       "      <td>0.835848</td>\n",
       "      <td>0.034602</td>\n",
       "      <td>0.003094</td>\n",
       "      <td>0.961769</td>\n",
       "      <td>0.699818</td>\n",
       "    </tr>\n",
       "    <tr>\n",
       "      <th>4</th>\n",
       "      <td>0.028835</td>\n",
       "      <td>0.409080</td>\n",
       "      <td>0.241168</td>\n",
       "      <td>0.014806</td>\n",
       "      <td>0.222830</td>\n",
       "    </tr>\n",
       "    <tr>\n",
       "      <th>...</th>\n",
       "      <td>...</td>\n",
       "      <td>...</td>\n",
       "      <td>...</td>\n",
       "      <td>...</td>\n",
       "      <td>...</td>\n",
       "    </tr>\n",
       "    <tr>\n",
       "      <th>505</th>\n",
       "      <td>0.028672</td>\n",
       "      <td>0.095918</td>\n",
       "      <td>1.138738</td>\n",
       "      <td>0.147153</td>\n",
       "      <td>0.268798</td>\n",
       "    </tr>\n",
       "    <tr>\n",
       "      <th>506</th>\n",
       "      <td>0.034480</td>\n",
       "      <td>0.201483</td>\n",
       "      <td>3.018948</td>\n",
       "      <td>0.158747</td>\n",
       "      <td>0.458481</td>\n",
       "    </tr>\n",
       "    <tr>\n",
       "      <th>507</th>\n",
       "      <td>0.148347</td>\n",
       "      <td>0.232155</td>\n",
       "      <td>1.606612</td>\n",
       "      <td>0.144347</td>\n",
       "      <td>0.021523</td>\n",
       "    </tr>\n",
       "    <tr>\n",
       "      <th>508</th>\n",
       "      <td>0.000053</td>\n",
       "      <td>0.000702</td>\n",
       "      <td>0.143860</td>\n",
       "      <td>0.065966</td>\n",
       "      <td>0.612536</td>\n",
       "    </tr>\n",
       "    <tr>\n",
       "      <th>509</th>\n",
       "      <td>0.281328</td>\n",
       "      <td>1.933868</td>\n",
       "      <td>0.056769</td>\n",
       "      <td>2.384168</td>\n",
       "      <td>0.438388</td>\n",
       "    </tr>\n",
       "  </tbody>\n",
       "</table>\n",
       "<p>510 rows × 5 columns</p>\n",
       "</div>"
      ],
      "text/plain": [
       "          d_1       d_2       d_3       d_4       d_5\n",
       "0    0.001143  0.182133  0.428974  0.214693  0.002764\n",
       "1    0.137900  0.008344  0.117674  0.173008  1.320219\n",
       "2    0.110236  0.107282  0.156316  0.691887  0.058962\n",
       "3    0.835848  0.034602  0.003094  0.961769  0.699818\n",
       "4    0.028835  0.409080  0.241168  0.014806  0.222830\n",
       "..        ...       ...       ...       ...       ...\n",
       "505  0.028672  0.095918  1.138738  0.147153  0.268798\n",
       "506  0.034480  0.201483  3.018948  0.158747  0.458481\n",
       "507  0.148347  0.232155  1.606612  0.144347  0.021523\n",
       "508  0.000053  0.000702  0.143860  0.065966  0.612536\n",
       "509  0.281328  1.933868  0.056769  2.384168  0.438388\n",
       "\n",
       "[510 rows x 5 columns]"
      ]
     },
     "execution_count": 243,
     "metadata": {},
     "output_type": "execute_result"
    }
   ],
   "source": [
    "di_table"
   ]
  },
  {
   "cell_type": "code",
   "execution_count": 244,
   "metadata": {},
   "outputs": [
    {
     "name": "stdout",
     "output_type": "stream",
     "text": [
      "            d_1         d_2        d_3         d_4        d_5\n",
      "50     1.594917    0.176915  96.691173    0.912160   0.038657\n",
      "258    4.988803  116.418365   0.024597    0.836729   0.040299\n",
      "312    0.000066    0.277236   0.021145    2.118631  74.367101\n",
      "310    0.003361    0.013458   0.079606  182.947324   0.040113\n",
      "482    0.028080    0.358791   0.134535    0.000289  51.757584\n",
      "378  209.321921    0.648797   0.055305    2.750316   0.028885\n",
      "464    0.075340    0.504544   0.545680    0.066442  79.863238\n",
      "388    0.082864   84.043107   2.122796    0.225251   1.620050\n",
      "27     0.000351    0.344403   0.797104    0.558341  44.481346\n",
      "453    3.656859    0.000064   0.968537    0.121226  45.188970\n"
     ]
    }
   ],
   "source": [
    "abnormal_di_table = di_table.loc[index]\n",
    "print(abnormal_di_table)"
   ]
  },
  {
   "cell_type": "code",
   "execution_count": 245,
   "metadata": {},
   "outputs": [
    {
     "data": {
      "text/plain": [
       "6.6348966010212145"
      ]
     },
     "execution_count": 245,
     "metadata": {},
     "output_type": "execute_result"
    }
   ],
   "source": [
    "cutoff = scipy.stats.chi2.ppf(1-.01, df=1)\n",
    "cutoff"
   ]
  },
  {
   "cell_type": "code",
   "execution_count": 246,
   "metadata": {},
   "outputs": [
    {
     "data": {
      "text/plain": [
       "d_5    5\n",
       "d_2    2\n",
       "d_1    1\n",
       "d_3    1\n",
       "d_4    1\n",
       "dtype: int64"
      ]
     },
     "execution_count": 246,
     "metadata": {},
     "output_type": "execute_result"
    }
   ],
   "source": [
    "threshold = abnormal_di_table > cutoff\n",
    "threshold.sum().sort_values(ascending=False)"
   ]
  },
  {
   "cell_type": "code",
   "execution_count": 247,
   "metadata": {},
   "outputs": [
    {
     "data": {
      "text/plain": [
       "d_5    29.742624\n",
       "d_1    21.975256\n",
       "d_2    20.278568\n",
       "d_4    19.053671\n",
       "d_3    10.144048\n",
       "dtype: float64"
      ]
     },
     "execution_count": 247,
     "metadata": {},
     "output_type": "execute_result"
    }
   ],
   "source": [
    "average = abnormal_di_table.mean()\n",
    "average.sort_values(ascending=False)"
   ]
  },
  {
   "cell_type": "code",
   "execution_count": 248,
   "metadata": {},
   "outputs": [
    {
     "name": "stdout",
     "output_type": "stream",
     "text": [
      "            d_1         d_2        d_3         d_4        d_5\n",
      "50     1.594917    0.176915  96.691173    0.912160   0.038657\n",
      "258    4.988803  116.418365   0.024597    0.836729   0.040299\n",
      "312    0.000066    0.277236   0.021145    2.118631  74.367101\n",
      "310    0.003361    0.013458   0.079606  182.947324   0.040113\n",
      "482    0.028080    0.358791   0.134535    0.000289  51.757584\n",
      "378  209.321921    0.648797   0.055305    2.750316   0.028885\n",
      "464    0.075340    0.504544   0.545680    0.066442  79.863238\n",
      "388    0.082864   84.043107   2.122796    0.225251   1.620050\n",
      "27     0.000351    0.344403   0.797104    0.558341  44.481346\n",
      "453    3.656859    0.000064   0.968537    0.121226  45.188970\n"
     ]
    }
   ],
   "source": [
    "rank_sum_table = abnormal_di_table\n",
    "print(rank_sum_table)"
   ]
  },
  {
   "cell_type": "code",
   "execution_count": 249,
   "metadata": {},
   "outputs": [],
   "source": [
    "rank_sum = [1,2,3,4,5]\n",
    "\n",
    "\n",
    "for i in range(len(rank_sum_table)):\n",
    "\n",
    "    rank = rank_sum_table.iloc[i]\n",
    "    rank_sort = rank_sum_table.iloc[i].sort_values()  \n",
    "    \n",
    "    for j in range(len(rank)):\n",
    "        rank_sort[j] = rank_sum[j]\n",
    "        \n",
    "        for index in rank.index:\n",
    "            rank[index] = rank_sort[index]\n",
    "            \n",
    "    rank_sum_table.loc[i] = rank   "
   ]
  },
  {
   "cell_type": "code",
   "execution_count": 250,
   "metadata": {},
   "outputs": [
    {
     "data": {
      "text/html": [
       "<div>\n",
       "<style scoped>\n",
       "    .dataframe tbody tr th:only-of-type {\n",
       "        vertical-align: middle;\n",
       "    }\n",
       "\n",
       "    .dataframe tbody tr th {\n",
       "        vertical-align: top;\n",
       "    }\n",
       "\n",
       "    .dataframe thead th {\n",
       "        text-align: right;\n",
       "    }\n",
       "</style>\n",
       "<table border=\"1\" class=\"dataframe\">\n",
       "  <thead>\n",
       "    <tr style=\"text-align: right;\">\n",
       "      <th></th>\n",
       "      <th>d_1</th>\n",
       "      <th>d_2</th>\n",
       "      <th>d_3</th>\n",
       "      <th>d_4</th>\n",
       "      <th>d_5</th>\n",
       "    </tr>\n",
       "  </thead>\n",
       "  <tbody>\n",
       "    <tr>\n",
       "      <th>50</th>\n",
       "      <td>4.0</td>\n",
       "      <td>2.0</td>\n",
       "      <td>5.0</td>\n",
       "      <td>3.0</td>\n",
       "      <td>1.0</td>\n",
       "    </tr>\n",
       "    <tr>\n",
       "      <th>258</th>\n",
       "      <td>4.0</td>\n",
       "      <td>5.0</td>\n",
       "      <td>1.0</td>\n",
       "      <td>3.0</td>\n",
       "      <td>2.0</td>\n",
       "    </tr>\n",
       "    <tr>\n",
       "      <th>312</th>\n",
       "      <td>1.0</td>\n",
       "      <td>3.0</td>\n",
       "      <td>2.0</td>\n",
       "      <td>4.0</td>\n",
       "      <td>5.0</td>\n",
       "    </tr>\n",
       "    <tr>\n",
       "      <th>310</th>\n",
       "      <td>1.0</td>\n",
       "      <td>2.0</td>\n",
       "      <td>4.0</td>\n",
       "      <td>5.0</td>\n",
       "      <td>3.0</td>\n",
       "    </tr>\n",
       "    <tr>\n",
       "      <th>482</th>\n",
       "      <td>2.0</td>\n",
       "      <td>4.0</td>\n",
       "      <td>3.0</td>\n",
       "      <td>1.0</td>\n",
       "      <td>5.0</td>\n",
       "    </tr>\n",
       "    <tr>\n",
       "      <th>378</th>\n",
       "      <td>5.0</td>\n",
       "      <td>3.0</td>\n",
       "      <td>2.0</td>\n",
       "      <td>4.0</td>\n",
       "      <td>1.0</td>\n",
       "    </tr>\n",
       "    <tr>\n",
       "      <th>464</th>\n",
       "      <td>2.0</td>\n",
       "      <td>3.0</td>\n",
       "      <td>4.0</td>\n",
       "      <td>1.0</td>\n",
       "      <td>5.0</td>\n",
       "    </tr>\n",
       "    <tr>\n",
       "      <th>388</th>\n",
       "      <td>1.0</td>\n",
       "      <td>5.0</td>\n",
       "      <td>4.0</td>\n",
       "      <td>2.0</td>\n",
       "      <td>3.0</td>\n",
       "    </tr>\n",
       "    <tr>\n",
       "      <th>27</th>\n",
       "      <td>1.0</td>\n",
       "      <td>2.0</td>\n",
       "      <td>4.0</td>\n",
       "      <td>3.0</td>\n",
       "      <td>5.0</td>\n",
       "    </tr>\n",
       "    <tr>\n",
       "      <th>453</th>\n",
       "      <td>4.0</td>\n",
       "      <td>1.0</td>\n",
       "      <td>3.0</td>\n",
       "      <td>2.0</td>\n",
       "      <td>5.0</td>\n",
       "    </tr>\n",
       "    <tr>\n",
       "      <th>0</th>\n",
       "      <td>4.0</td>\n",
       "      <td>2.0</td>\n",
       "      <td>5.0</td>\n",
       "      <td>3.0</td>\n",
       "      <td>1.0</td>\n",
       "    </tr>\n",
       "    <tr>\n",
       "      <th>1</th>\n",
       "      <td>4.0</td>\n",
       "      <td>5.0</td>\n",
       "      <td>1.0</td>\n",
       "      <td>3.0</td>\n",
       "      <td>2.0</td>\n",
       "    </tr>\n",
       "    <tr>\n",
       "      <th>2</th>\n",
       "      <td>1.0</td>\n",
       "      <td>3.0</td>\n",
       "      <td>2.0</td>\n",
       "      <td>4.0</td>\n",
       "      <td>5.0</td>\n",
       "    </tr>\n",
       "    <tr>\n",
       "      <th>3</th>\n",
       "      <td>1.0</td>\n",
       "      <td>2.0</td>\n",
       "      <td>4.0</td>\n",
       "      <td>5.0</td>\n",
       "      <td>3.0</td>\n",
       "    </tr>\n",
       "    <tr>\n",
       "      <th>4</th>\n",
       "      <td>2.0</td>\n",
       "      <td>4.0</td>\n",
       "      <td>3.0</td>\n",
       "      <td>1.0</td>\n",
       "      <td>5.0</td>\n",
       "    </tr>\n",
       "    <tr>\n",
       "      <th>5</th>\n",
       "      <td>5.0</td>\n",
       "      <td>3.0</td>\n",
       "      <td>2.0</td>\n",
       "      <td>4.0</td>\n",
       "      <td>1.0</td>\n",
       "    </tr>\n",
       "    <tr>\n",
       "      <th>6</th>\n",
       "      <td>2.0</td>\n",
       "      <td>3.0</td>\n",
       "      <td>4.0</td>\n",
       "      <td>1.0</td>\n",
       "      <td>5.0</td>\n",
       "    </tr>\n",
       "    <tr>\n",
       "      <th>7</th>\n",
       "      <td>1.0</td>\n",
       "      <td>5.0</td>\n",
       "      <td>4.0</td>\n",
       "      <td>2.0</td>\n",
       "      <td>3.0</td>\n",
       "    </tr>\n",
       "    <tr>\n",
       "      <th>8</th>\n",
       "      <td>1.0</td>\n",
       "      <td>2.0</td>\n",
       "      <td>4.0</td>\n",
       "      <td>3.0</td>\n",
       "      <td>5.0</td>\n",
       "    </tr>\n",
       "    <tr>\n",
       "      <th>9</th>\n",
       "      <td>4.0</td>\n",
       "      <td>1.0</td>\n",
       "      <td>3.0</td>\n",
       "      <td>2.0</td>\n",
       "      <td>5.0</td>\n",
       "    </tr>\n",
       "  </tbody>\n",
       "</table>\n",
       "</div>"
      ],
      "text/plain": [
       "     d_1  d_2  d_3  d_4  d_5\n",
       "50   4.0  2.0  5.0  3.0  1.0\n",
       "258  4.0  5.0  1.0  3.0  2.0\n",
       "312  1.0  3.0  2.0  4.0  5.0\n",
       "310  1.0  2.0  4.0  5.0  3.0\n",
       "482  2.0  4.0  3.0  1.0  5.0\n",
       "378  5.0  3.0  2.0  4.0  1.0\n",
       "464  2.0  3.0  4.0  1.0  5.0\n",
       "388  1.0  5.0  4.0  2.0  3.0\n",
       "27   1.0  2.0  4.0  3.0  5.0\n",
       "453  4.0  1.0  3.0  2.0  5.0\n",
       "0    4.0  2.0  5.0  3.0  1.0\n",
       "1    4.0  5.0  1.0  3.0  2.0\n",
       "2    1.0  3.0  2.0  4.0  5.0\n",
       "3    1.0  2.0  4.0  5.0  3.0\n",
       "4    2.0  4.0  3.0  1.0  5.0\n",
       "5    5.0  3.0  2.0  4.0  1.0\n",
       "6    2.0  3.0  4.0  1.0  5.0\n",
       "7    1.0  5.0  4.0  2.0  3.0\n",
       "8    1.0  2.0  4.0  3.0  5.0\n",
       "9    4.0  1.0  3.0  2.0  5.0"
      ]
     },
     "execution_count": 250,
     "metadata": {},
     "output_type": "execute_result"
    }
   ],
   "source": [
    "rank_sum_table"
   ]
  },
  {
   "cell_type": "code",
   "execution_count": 251,
   "metadata": {},
   "outputs": [
    {
     "data": {
      "text/plain": [
       "d_1    50.0\n",
       "d_2    60.0\n",
       "d_3    64.0\n",
       "d_4    56.0\n",
       "d_5    70.0\n",
       "dtype: float64"
      ]
     },
     "execution_count": 251,
     "metadata": {},
     "output_type": "execute_result"
    }
   ],
   "source": [
    "rank_sum_table.sum()"
   ]
  },
  {
   "cell_type": "code",
   "execution_count": 252,
   "metadata": {},
   "outputs": [
    {
     "data": {
      "text/plain": [
       "d_5    70.0\n",
       "d_3    64.0\n",
       "d_2    60.0\n",
       "d_4    56.0\n",
       "d_1    50.0\n",
       "dtype: float64"
      ]
     },
     "execution_count": 252,
     "metadata": {},
     "output_type": "execute_result"
    }
   ],
   "source": [
    "rank_sum_table.sum().sort_values(ascending=False)"
   ]
  },
  {
   "cell_type": "code",
   "execution_count": 253,
   "metadata": {},
   "outputs": [
    {
     "name": "stdout",
     "output_type": "stream",
     "text": [
      "300.0\n"
     ]
    }
   ],
   "source": [
    "a = rank_sum_table.sum().sum()\n",
    "print(a)"
   ]
  },
  {
   "cell_type": "code",
   "execution_count": 254,
   "metadata": {},
   "outputs": [
    {
     "name": "stdout",
     "output_type": "stream",
     "text": [
      "d_5    0.233333\n",
      "d_3    0.213333\n",
      "d_2    0.200000\n",
      "d_4    0.186667\n",
      "d_1    0.166667\n",
      "dtype: float64\n"
     ]
    }
   ],
   "source": [
    "b = rank_sum_table.sum() / a\n",
    "print(b.sort_values(ascending=False))"
   ]
  },
  {
   "cell_type": "code",
   "execution_count": null,
   "metadata": {},
   "outputs": [],
   "source": []
  }
 ],
 "metadata": {
  "interpreter": {
   "hash": "058933e5a9539b895803c8a407e7cd16e9f082b776031d7d55030e1fab45754b"
  },
  "kernelspec": {
   "display_name": "Python 3.9.7 ('base')",
   "language": "python",
   "name": "python3"
  },
  "language_info": {
   "codemirror_mode": {
    "name": "ipython",
    "version": 3
   },
   "file_extension": ".py",
   "mimetype": "text/x-python",
   "name": "python",
   "nbconvert_exporter": "python",
   "pygments_lexer": "ipython3",
   "version": "3.7.11"
  },
  "orig_nbformat": 4
 },
 "nbformat": 4,
 "nbformat_minor": 2
}
